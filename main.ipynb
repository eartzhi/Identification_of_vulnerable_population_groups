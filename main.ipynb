{
 "cells": [
  {
   "cell_type": "code",
   "execution_count": 64,
   "metadata": {},
   "outputs": [],
   "source": [
    "import pandas as pd\n",
    "import numpy as np"
   ]
  },
  {
   "cell_type": "code",
   "execution_count": 52,
   "metadata": {},
   "outputs": [],
   "source": [
    "#Среднедушевые денежные доходы (в месяц), руб.\n",
    "per_capita_cash_income = pd.read_excel('data/cash_real_income_wages_2015_2020.xlsx', sheet_name='per_capita_cash_income')\n",
    "#Реальные денежные доходы, в процентах к предыдущему году\n",
    "per_capita_cash_income_real_incomes = pd.read_excel('data/cash_real_income_wages_2015_2020.xlsx', sheet_name='real_incomes')\n",
    "#Среднемесячная номинальная начисленная заработная плата, руб\n",
    "formal_wage_paid = pd.read_excel('data/cash_real_income_wages_2015_2020.xlsx', sheet_name='formal_wage_paid')\n",
    "#Реальная начисленная заработная плата, в процентах к предыдущему году\n",
    "formal_wage_paid_real_pay = pd.read_excel('data/cash_real_income_wages_2015_2020.xlsx', sheet_name='real_pay')"
   ]
  },
  {
   "cell_type": "code",
   "execution_count": 127,
   "metadata": {},
   "outputs": [],
   "source": [
    "def index_nomalizer(ind: list) -> list:\n",
    "    accep_list = ['край', 'обл', 'респуб', 'москв', 'автон', 'петерб', 'севаст']\n",
    "    for n in range(len(ind)):\n",
    "        flag = 0\n",
    "        ind[n] = ind[n].lower().replace('\\n', '').replace('.', '')\n",
    "        for elem in accep_list:\n",
    "            if elem in ind[n]:\n",
    "                flag = 1\n",
    "        if 'безавтоном' in ind[n]:\n",
    "            flag = 0\n",
    "        if not flag:\n",
    "            ind[n] = np.nan\n",
    "    return ind"
   ]
  },
  {
   "cell_type": "code",
   "execution_count": 131,
   "metadata": {},
   "outputs": [
    {
     "data": {
      "text/plain": [
       "85"
      ]
     },
     "execution_count": 131,
     "metadata": {},
     "output_type": "execute_result"
    }
   ],
   "source": [
    "i = index_nomalizer(list(formal_wage_paid_real_pay['region']))\n",
    "# formal_wage_paid_real_pay.reindex(i)\n",
    "# print(len(i) - i.count(np.nan))\n",
    "while np.nan in i:\n",
    "    i.remove(np.nan)\n",
    "    \n",
    "len(i)"
   ]
  }
 ],
 "metadata": {
  "kernelspec": {
   "display_name": ".venv",
   "language": "python",
   "name": "python3"
  },
  "language_info": {
   "codemirror_mode": {
    "name": "ipython",
    "version": 3
   },
   "file_extension": ".py",
   "mimetype": "text/x-python",
   "name": "python",
   "nbconvert_exporter": "python",
   "pygments_lexer": "ipython3",
   "version": "3.11.7"
  }
 },
 "nbformat": 4,
 "nbformat_minor": 2
}
